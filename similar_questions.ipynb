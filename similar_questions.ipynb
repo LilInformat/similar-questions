{
  "nbformat": 4,
  "nbformat_minor": 0,
  "metadata": {
    "colab": {
      "name": "similar-questions.ipynb",
      "provenance": [],
      "collapsed_sections": [],
      "machine_shape": "hm",
      "include_colab_link": true
    },
    "kernelspec": {
      "name": "python3",
      "display_name": "Python 3"
    },
    "accelerator": "GPU"
  },
  "cells": [
    {
      "cell_type": "markdown",
      "metadata": {
        "id": "view-in-github",
        "colab_type": "text"
      },
      "source": [
        "<a href=\"https://colab.research.google.com/github/LilInformat/similar-questions/blob/master/similar_questions.ipynb\" target=\"_parent\"><img src=\"https://colab.research.google.com/assets/colab-badge.svg\" alt=\"Open In Colab\"/></a>"
      ]
    },
    {
      "cell_type": "code",
      "metadata": {
        "id": "2DXv8fu5Kysl",
        "colab_type": "code",
        "colab": {}
      },
      "source": [
        "from google.colab import auth\n",
        "auth.authenticate_user()"
      ],
      "execution_count": 0,
      "outputs": []
    },
    {
      "cell_type": "code",
      "metadata": {
        "id": "DFqy81dhYzL3",
        "colab_type": "code",
        "colab": {}
      },
      "source": [
        "import os\n",
        "import gzip\n",
        "import time\n",
        "import json\n",
        "import re\n",
        "import numpy as np\n",
        "import pandas as pd\n",
        "import random\n",
        "from pandas.io.json import json_normalize\n",
        "import tensorflow as tf\n",
        "import tensorflow_hub as hub\n",
        "from sklearn.model_selection import train_test_split"
      ],
      "execution_count": 0,
      "outputs": []
    },
    {
      "cell_type": "code",
      "metadata": {
        "id": "ro6tMZXCgbFU",
        "colab_type": "code",
        "colab": {}
      },
      "source": [
        "pd.set_option('display.max_colwidth', -1)\n",
        "np.set_printoptions(threshold=np.inf)"
      ],
      "execution_count": 0,
      "outputs": []
    },
    {
      "cell_type": "code",
      "metadata": {
        "id": "2Rzlu85hKysE",
        "colab_type": "code",
        "colab": {}
      },
      "source": [
        "# Download the file from a given Google Cloud Storage bucket.\n",
        "DOWNLOAD_PATH = '/content/NLTK/dataset'\n",
        "if not os.path.exists(DOWNLOAD_PATH):\n",
        "    os.makedirs(DOWNLOAD_PATH)\n",
        "    \n",
        "!gsutil -m cp -R gs://natural_questions/v1.0 /content/NLTK/dataset"
      ],
      "execution_count": 0,
      "outputs": []
    },
    {
      "cell_type": "code",
      "metadata": {
        "id": "4oFmLA6Za1tQ",
        "colab_type": "code",
        "outputId": "9ec206f7-5be4-484b-d6e3-f83c421ecee0",
        "colab": {
          "base_uri": "https://localhost:8080/",
          "height": 204
        }
      },
      "source": [
        "ENCODER_PATH = '/content/google/universal-sentence-encoder/module'\n",
        "if not os.path.exists(ENCODER_PATH):\n",
        "    os.makedirs(ENCODER_PATH)\n",
        "    \n",
        "# Download the module, and uncompress it to the destination folder. \n",
        "!curl -L \"https://tfhub.dev/google/universal-sentence-encoder-large/3?tf-hub-format=compressed\" | tar -zxvC /content/google/universal-sentence-encoder/module"
      ],
      "execution_count": 0,
      "outputs": [
        {
          "output_type": "stream",
          "text": [
            "  % Total    % Received % Xferd  Average Speed   Time    Time     Time  Current\n",
            "                                 Dload  Upload   Total   Spent    Left  Speed\n",
            "\r  0     0    0     0    0     0      0      0 --:--:-- --:--:-- --:--:--     0\r  0     0    0     0    0     0      0      0 --:--:-- --:--:-- --:--:--     0\n",
            "./\n",
            "./tfhub_module.pb\n",
            "./variables/\n",
            "./variables/variables.data-00000-of-00001\n",
            " 97  745M   97  726M    0     0  74.7M      0  0:00:09  0:00:09 --:--:-- 77.5M./variables/variables.index\n",
            "./assets/\n",
            "./saved_model.pb\n",
            "100  745M  100  745M    0     0  74.6M      0  0:00:09  0:00:09 --:--:-- 77.2M\n"
          ],
          "name": "stdout"
        }
      ]
    },
    {
      "cell_type": "code",
      "metadata": {
        "id": "Mwu3kFtSO9_R",
        "colab_type": "code",
        "colab": {}
      },
      "source": [
        "DEV_PATH = '/content/NLTK/dataset/v1.0/dev'\n",
        "DEV_FILES = [\n",
        "             os.path.join(DEV_PATH,'nq-dev-00.jsonl.gz'),\n",
        "             os.path.join(DEV_PATH,'nq-dev-01.jsonl.gz'),\n",
        "             os.path.join(DEV_PATH,'nq-dev-02.jsonl.gz'),\n",
        "             os.path.join(DEV_PATH,'nq-dev-03.jsonl.gz'),\n",
        "             os.path.join(DEV_PATH,'nq-dev-04.jsonl.gz')\n",
        "             ]\n",
        "\n",
        "def get_answers(data_to_process):\n",
        "  answers = []\n",
        "  tokens = []\n",
        "  processed_candidates =[]\n",
        "  for annotation in data_to_process['annotations'][0]:\n",
        "    yes_no_answer = annotation['yes_no_answer']\n",
        "    if yes_no_answer != \"NONE\":\n",
        "      answers.append(yes_no_answer)\n",
        "      continue;\n",
        "\n",
        "    long_answer = annotation['long_answer']\n",
        "    candidate_index = int(long_answer['candidate_index'])\n",
        "    if candidate_index != -1 and candidate_index not in processed_candidates:\n",
        "      start = int(long_answer[\"start_token\"])\n",
        "      end = int(long_answer[\"end_token\"])\n",
        "      processed_candidates.append(candidate_index)\n",
        "      candidate_tokens = [x['token'] for x in data_to_process['document_tokens'][0][start:end]]\n",
        "      answer = ' '.join(x for x in candidate_tokens)\n",
        "      tokens.append(candidate_tokens)\n",
        "      answers.append(''.join(answer))\n",
        "\n",
        "  if len(answers) != 0:\n",
        "    return answers, tokens\n",
        "  return None, None\n",
        "\n",
        "def load_data(files = DEV_FILES):\n",
        "  \"\"\"Loads an array of files and outputs a single dataframe\n",
        "  Args:\n",
        "    files: an array of files\n",
        "    gzipped: if the files are gzipped\n",
        "  Returns:\n",
        "    A dataframe\n",
        "  \"\"\"\n",
        "  df = pd.DataFrame(columns=[\"question_text\", \"question_tokens\",\"answers\"])\n",
        "  for f in files:\n",
        "    with gzip.open(f) as fin:\n",
        "      for l in fin:\n",
        "        json_line = l.decode(\"utf8\", \"strict\")\n",
        "        json_data = json.loads(json_line)\n",
        "        normalized_data = json_normalize(json_data)\n",
        "        answers_text, answer_tokens = get_answers(normalized_data)\n",
        "        df = df.append({\n",
        "          \"question_text\": normalized_data['question_text'][0],\n",
        "          \"question_tokens\": normalized_data['question_tokens'][0],\n",
        "          \"answers\": answers_text,\n",
        "          \"answer_tokens\": answer_tokens\n",
        "            }, ignore_index=True)\n",
        "  return df\n",
        "\n",
        "def getKNearestResults(index, sim_matrix, k):\n",
        "  top_indices = np.argpartition(sim_matrix[index], -k)[-k:]\n",
        "  result = [sim_matrix[index][i] for i in top_indices]\n",
        "  return sorted(zip(top_indices,result))"
      ],
      "execution_count": 0,
      "outputs": []
    },
    {
      "cell_type": "code",
      "metadata": {
        "id": "2koFPmMjL-g0",
        "colab_type": "code",
        "colab": {}
      },
      "source": [
        "data = load_data(DEV_FILES)\n",
        "#unprocessed_data = unprocessed_load_data([DEV_FILES[0]])"
      ],
      "execution_count": 0,
      "outputs": []
    },
    {
      "cell_type": "code",
      "metadata": {
        "id": "xeLODC0QSA0d",
        "colab_type": "code",
        "outputId": "8dd467cf-cf17-477e-c29b-d992f5d3373f",
        "colab": {
          "base_uri": "https://localhost:8080/",
          "height": 51
        }
      },
      "source": [
        "data.isnull().sum()\n",
        "clean_data = data.dropna()\n",
        "print(data.shape)\n",
        "print(clean_data.shape)"
      ],
      "execution_count": 0,
      "outputs": [
        {
          "output_type": "stream",
          "text": [
            "(7830, 4)\n",
            "(5499, 4)\n"
          ],
          "name": "stdout"
        }
      ]
    },
    {
      "cell_type": "code",
      "metadata": {
        "colab_type": "code",
        "id": "lU405PKutwZO",
        "colab": {}
      },
      "source": [
        "X_train, X_test = train_test_split(clean_data, test_size=0.33, random_state=42)"
      ],
      "execution_count": 0,
      "outputs": []
    },
    {
      "cell_type": "code",
      "metadata": {
        "id": "107P1EGoeiuf",
        "colab_type": "code",
        "colab": {}
      },
      "source": [
        "questions_train = X_train['question_text'].tolist()\n",
        "questions_test = X_test['question_text'].tolist()\n",
        "\n",
        "with tf.Session() as session:\n",
        "  session.run([tf.global_variables_initializer(), tf.tables_initializer()])\n",
        "  questions_train_embed = session.run(embed(questions_train))\n",
        "  questions_test_embed = session.run(embed(questions_test))\n",
        "  np.inner(questions_test_embed, questions_train_embed)\n",
        "  sim_matrix = np.inner(questions_test_embed, questions_train_embed)"
      ],
      "execution_count": 0,
      "outputs": []
    },
    {
      "cell_type": "code",
      "metadata": {
        "id": "RjDu1yj8jFdW",
        "colab_type": "code",
        "outputId": "ed6c4414-45de-47e3-9e44-8848b474e9ed",
        "colab": {
          "base_uri": "https://localhost:8080/",
          "height": 68
        }
      },
      "source": [
        "print(sim_matrix.shape)\n",
        "print(questions_train.shape)\n",
        "print(questions_test.shape)"
      ],
      "execution_count": 0,
      "outputs": [
        {
          "output_type": "stream",
          "text": [
            "(1815, 3684)\n",
            "(3684,)\n",
            "(1815,)\n"
          ],
          "name": "stdout"
        }
      ]
    },
    {
      "cell_type": "code",
      "metadata": {
        "id": "ymvWNbQXciwB",
        "colab_type": "code",
        "outputId": "1219fa80-85d0-4409-d7c1-ae0f5ad849b4",
        "colab": {
          "base_uri": "https://localhost:8080/",
          "height": 170
        }
      },
      "source": [
        "print(\"Test Question: %s\"%questions_test[0])\n",
        "results = getKNearestResults(0, sim_matrix, 4)\n",
        "for result in results:\n",
        "  print(\"Question: %s\" %questions_train[result[0]])\n",
        "  print(\"Score: %s\" %result[1])"
      ],
      "execution_count": 280,
      "outputs": [
        {
          "output_type": "stream",
          "text": [
            "Test Question: a player that can shoot pass or dribble is considered to be\n",
            "Question: what nba player has scored the most 3 pointers\n",
            "Score: 0.7008544\n",
            "Question: most assists in an nba all star game\n",
            "Score: 0.69767153\n",
            "Question: who scored the most points in a single game in the nba\n",
            "Score: 0.67270887\n",
            "Question: who is the all time leading scorer in ncaa tournament history\n",
            "Score: 0.6549603\n"
          ],
          "name": "stdout"
        }
      ]
    },
    {
      "cell_type": "code",
      "metadata": {
        "id": "wOx6PPvwxNt0",
        "colab_type": "code",
        "colab": {}
      },
      "source": [
        ""
      ],
      "execution_count": 0,
      "outputs": []
    }
  ]
}